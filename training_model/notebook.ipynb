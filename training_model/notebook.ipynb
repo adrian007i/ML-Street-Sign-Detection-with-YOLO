{
 "cells": [
  {
   "cell_type": "markdown",
   "id": "e869938c",
   "metadata": {
    "_cell_guid": "b1076dfc-b9ad-4769-8c92-a6c4dae69d19",
    "_uuid": "8f2839f25d086af736a60e9eeb907d3b93b6e0e5",
    "papermill": {
     "duration": 0.008414,
     "end_time": "2024-05-02T08:53:01.623512",
     "exception": false,
     "start_time": "2024-05-02T08:53:01.615098",
     "status": "completed"
    },
    "tags": []
   },
   "source": [
    "# Create yolo dataset\n",
    "\n",
    "## Part 1: Based on xml annotations"
   ]
  },
  {
   "cell_type": "code",
   "execution_count": 1,
   "id": "3d785589",
   "metadata": {
    "execution": {
     "iopub.execute_input": "2024-05-02T08:53:01.641644Z",
     "iopub.status.busy": "2024-05-02T08:53:01.640791Z",
     "iopub.status.idle": "2024-05-02T08:53:03.839154Z",
     "shell.execute_reply": "2024-05-02T08:53:03.838391Z"
    },
    "papermill": {
     "duration": 2.210161,
     "end_time": "2024-05-02T08:53:03.841592",
     "exception": false,
     "start_time": "2024-05-02T08:53:01.631431",
     "status": "completed"
    },
    "tags": []
   },
   "outputs": [],
   "source": [
    "import os, gc, sys, yaml, shutil\n",
    "from pathlib import Path\n",
    "from tqdm.auto import tqdm\n",
    "\n",
    "import math\n",
    "import random\n",
    "import pandas as pd\n",
    "import numpy as np\n",
    "import matplotlib.pyplot as plt\n",
    "\n",
    "from sklearn import model_selection\n",
    "\n",
    "import PIL\n",
    "import cv2\n",
    "\n",
    "import xml\n",
    "import xml.etree.ElementTree as ET\n",
    "from xml.dom import minidom\n",
    "\n",
    "random.seed(42)\n",
    "import warnings\n",
    "warnings.filterwarnings(\"ignore\")"
   ]
  },
  {
   "cell_type": "code",
   "execution_count": 2,
   "id": "cd9e840a",
   "metadata": {
    "execution": {
     "iopub.execute_input": "2024-05-02T08:53:03.858324Z",
     "iopub.status.busy": "2024-05-02T08:53:03.857941Z",
     "iopub.status.idle": "2024-05-02T08:53:06.071912Z",
     "shell.execute_reply": "2024-05-02T08:53:06.070887Z"
    },
    "papermill": {
     "duration": 2.224469,
     "end_time": "2024-05-02T08:53:06.073878",
     "exception": false,
     "start_time": "2024-05-02T08:53:03.849409",
     "status": "completed"
    },
    "tags": []
   },
   "outputs": [
    {
     "name": "stderr",
     "output_type": "stream",
     "text": [
      "\u001b[34m\u001b[1mwandb\u001b[0m: W&B API key is configured. Use \u001b[1m`wandb login --relogin`\u001b[0m to force relogin\n",
      "\u001b[34m\u001b[1mwandb\u001b[0m: \u001b[33mWARNING\u001b[0m If you're specifying your api key in code, ensure this code is not shared publicly.\n",
      "\u001b[34m\u001b[1mwandb\u001b[0m: \u001b[33mWARNING\u001b[0m Consider setting the WANDB_API_KEY environment variable, or running `wandb login` from the command line.\n",
      "\u001b[34m\u001b[1mwandb\u001b[0m: Appending key for api.wandb.ai to your netrc file: /root/.netrc\n"
     ]
    },
    {
     "data": {
      "text/plain": [
       "True"
      ]
     },
     "execution_count": 2,
     "metadata": {},
     "output_type": "execute_result"
    }
   ],
   "source": [
    "import wandb\n",
    "from kaggle_secrets import UserSecretsClient\n",
    "user_secrets = UserSecretsClient()\n",
    "secret_value_0 = user_secrets.get_secret(\"WANDB_API_KEY\")\n",
    "wandb.login(key=secret_value_0)"
   ]
  },
  {
   "cell_type": "code",
   "execution_count": 3,
   "id": "63ffed3b",
   "metadata": {
    "execution": {
     "iopub.execute_input": "2024-05-02T08:53:06.091502Z",
     "iopub.status.busy": "2024-05-02T08:53:06.091217Z",
     "iopub.status.idle": "2024-05-02T08:53:06.100180Z",
     "shell.execute_reply": "2024-05-02T08:53:06.099379Z"
    },
    "papermill": {
     "duration": 0.020379,
     "end_time": "2024-05-02T08:53:06.102514",
     "exception": false,
     "start_time": "2024-05-02T08:53:06.082135",
     "status": "completed"
    },
    "tags": []
   },
   "outputs": [
    {
     "data": {
      "text/plain": [
       "['annotations', 'images']"
      ]
     },
     "execution_count": 3,
     "metadata": {},
     "output_type": "execute_result"
    }
   ],
   "source": [
    "DATA_PATH = Path(\"/kaggle/input/road-sign-detection\")\n",
    "os.listdir(DATA_PATH)"
   ]
  },
  {
   "cell_type": "code",
   "execution_count": 4,
   "id": "d0bd50ff",
   "metadata": {
    "execution": {
     "iopub.execute_input": "2024-05-02T08:53:06.124413Z",
     "iopub.status.busy": "2024-05-02T08:53:06.124135Z",
     "iopub.status.idle": "2024-05-02T08:53:06.128104Z",
     "shell.execute_reply": "2024-05-02T08:53:06.127184Z"
    },
    "papermill": {
     "duration": 0.017181,
     "end_time": "2024-05-02T08:53:06.130206",
     "exception": false,
     "start_time": "2024-05-02T08:53:06.113025",
     "status": "completed"
    },
    "tags": []
   },
   "outputs": [],
   "source": [
    "# !cat /kaggle/input/road-sign-detection/annotations/road4.xml"
   ]
  },
  {
   "cell_type": "code",
   "execution_count": 5,
   "id": "af3101ea",
   "metadata": {
    "execution": {
     "iopub.execute_input": "2024-05-02T08:53:06.152203Z",
     "iopub.status.busy": "2024-05-02T08:53:06.151273Z",
     "iopub.status.idle": "2024-05-02T08:53:06.160563Z",
     "shell.execute_reply": "2024-05-02T08:53:06.159272Z"
    },
    "papermill": {
     "duration": 0.022308,
     "end_time": "2024-05-02T08:53:06.163345",
     "exception": false,
     "start_time": "2024-05-02T08:53:06.141037",
     "status": "completed"
    },
    "tags": []
   },
   "outputs": [],
   "source": [
    "# function to get the data from XML annotation\n",
    "def extract_info_from_xml(xml_file):\n",
    "    root = ET.parse(xml_file).getroot()\n",
    "    \n",
    "    # initialize the info dict\n",
    "    info_dict = {}\n",
    "    info_dict['bboxes'] = []\n",
    "    \n",
    "    # parse the xml tree\n",
    "    for elem in root:\n",
    "        # get file name\n",
    "        if elem.tag == \"filename\":\n",
    "            info_dict['filename'] = elem.text\n",
    "        \n",
    "        # get the image size\n",
    "        elif elem.tag == \"size\":\n",
    "            image_size = []\n",
    "            for subelem in elem:\n",
    "                image_size.append(int(subelem.text))\n",
    "                \n",
    "            info_dict['image_size'] = tuple(image_size)\n",
    "            \n",
    "        # get details of the bounding box\n",
    "        elif elem.tag == \"object\":\n",
    "            bbox = {}\n",
    "            for subelem in elem:\n",
    "                if subelem.tag == \"name\":\n",
    "                    bbox[\"class\"] = subelem.text\n",
    "                elif subelem.tag == \"bndbox\":\n",
    "                    for subsubelem in subelem:\n",
    "                        bbox[subsubelem.tag] = int(subsubelem.text)\n",
    "            info_dict['bboxes'].append(bbox)\n",
    "            \n",
    "    return info_dict"
   ]
  },
  {
   "cell_type": "code",
   "execution_count": 6,
   "id": "a994d879",
   "metadata": {
    "execution": {
     "iopub.execute_input": "2024-05-02T08:53:06.187067Z",
     "iopub.status.busy": "2024-05-02T08:53:06.186480Z",
     "iopub.status.idle": "2024-05-02T08:53:06.200639Z",
     "shell.execute_reply": "2024-05-02T08:53:06.199658Z"
    },
    "papermill": {
     "duration": 0.027934,
     "end_time": "2024-05-02T08:53:06.202666",
     "exception": false,
     "start_time": "2024-05-02T08:53:06.174732",
     "status": "completed"
    },
    "tags": []
   },
   "outputs": [
    {
     "data": {
      "text/plain": [
       "{'bboxes': [{'class': 'speedlimit',\n",
       "   'xmin': 90,\n",
       "   'ymin': 180,\n",
       "   'xmax': 173,\n",
       "   'ymax': 263}],\n",
       " 'filename': 'road350.txt',\n",
       " 'image_size': (300, 400, 3)}"
      ]
     },
     "execution_count": 6,
     "metadata": {},
     "output_type": "execute_result"
    }
   ],
   "source": [
    "class_name_to_id_mapping = {\n",
    "    \"trafficlight\": 0,\n",
    "    \"stop\": 1,\n",
    "    \"speedlimit\": 2,\n",
    "    \"crosswalk\": 3\n",
    "}\n",
    "\n",
    "ANNOTATION_DIR = Path(\"/kaggle/input/road-sign-detection/annotations\")\n",
    "info_dict = extract_info_from_xml(ANNOTATION_DIR/\"road350.xml\")\n",
    "info_dict['filename'] = info_dict['filename'].replace(\"png\", \"txt\")\n",
    "info_dict"
   ]
  },
  {
   "cell_type": "code",
   "execution_count": 7,
   "id": "f5dc19b5",
   "metadata": {
    "execution": {
     "iopub.execute_input": "2024-05-02T08:53:06.222450Z",
     "iopub.status.busy": "2024-05-02T08:53:06.222192Z",
     "iopub.status.idle": "2024-05-02T08:53:06.326161Z",
     "shell.execute_reply": "2024-05-02T08:53:06.325301Z"
    },
    "papermill": {
     "duration": 0.117081,
     "end_time": "2024-05-02T08:53:06.328389",
     "exception": false,
     "start_time": "2024-05-02T08:53:06.211308",
     "status": "completed"
    },
    "tags": []
   },
   "outputs": [
    {
     "data": {
      "text/plain": [
       "(267, 400)"
      ]
     },
     "execution_count": 7,
     "metadata": {},
     "output_type": "execute_result"
    }
   ],
   "source": [
    "PIL.Image.open(\"/kaggle/input/road-sign-detection/images/road0.png\").size"
   ]
  },
  {
   "cell_type": "code",
   "execution_count": 8,
   "id": "bac6cd37",
   "metadata": {
    "execution": {
     "iopub.execute_input": "2024-05-02T08:53:06.346516Z",
     "iopub.status.busy": "2024-05-02T08:53:06.346228Z",
     "iopub.status.idle": "2024-05-02T08:53:06.353332Z",
     "shell.execute_reply": "2024-05-02T08:53:06.352241Z"
    },
    "papermill": {
     "duration": 0.019064,
     "end_time": "2024-05-02T08:53:06.355953",
     "exception": false,
     "start_time": "2024-05-02T08:53:06.336889",
     "status": "completed"
    },
    "tags": []
   },
   "outputs": [
    {
     "data": {
      "text/plain": [
       "[[2, 90, 180, 173, 263]]"
      ]
     },
     "execution_count": 8,
     "metadata": {},
     "output_type": "execute_result"
    }
   ],
   "source": [
    "labels = []\n",
    "for box in info_dict['bboxes']:\n",
    "    label = [class_name_to_id_mapping[box['class']], box['xmin'], box['ymin'], box['xmax'], box['ymax']]\n",
    "    labels.append(label)\n",
    "    \n",
    "labels"
   ]
  },
  {
   "cell_type": "code",
   "execution_count": 9,
   "id": "d6ceeb8a",
   "metadata": {
    "execution": {
     "iopub.execute_input": "2024-05-02T08:53:06.377775Z",
     "iopub.status.busy": "2024-05-02T08:53:06.377383Z",
     "iopub.status.idle": "2024-05-02T08:53:17.352862Z",
     "shell.execute_reply": "2024-05-02T08:53:17.351915Z"
    },
    "papermill": {
     "duration": 10.989062,
     "end_time": "2024-05-02T08:53:17.355722",
     "exception": false,
     "start_time": "2024-05-02T08:53:06.366660",
     "status": "completed"
    },
    "tags": []
   },
   "outputs": [
    {
     "data": {
      "application/vnd.jupyter.widget-view+json": {
       "model_id": "b68f5d5928c7487d98df209bba0cc212",
       "version_major": 2,
       "version_minor": 0
      },
      "text/plain": [
       "  0%|          | 0/877 [00:00<?, ?it/s]"
      ]
     },
     "metadata": {},
     "output_type": "display_data"
    }
   ],
   "source": [
    "def create_dataset(data_path):\n",
    "    LABELS = []\n",
    "    IMAGE_PATHS = []\n",
    "    IMAGE_DIR = data_path/'images'\n",
    "    img_paths = os.listdir(IMAGE_DIR)\n",
    "    ANNOTATION_DIR = data_path/'annotations'\n",
    "    for i, path in enumerate(tqdm(img_paths, total=len(img_paths))):\n",
    "        iPath = f\"{IMAGE_DIR}/{path}\"\n",
    "        assert os.path.exists(iPath)\n",
    "        image = PIL.Image.open(iPath)\n",
    "        image_w, image_h = image.size\n",
    "        name = Path(iPath).stem\n",
    "        aPath = f\"{ANNOTATION_DIR}/{name}.xml\"\n",
    "        assert os.path.exists(aPath)\n",
    "        info_dict = extract_info_from_xml(aPath)\n",
    "        annots = []\n",
    "        for b in info_dict['bboxes']:\n",
    "            b_center_x = (b[\"xmin\"] + b[\"xmax\"]) / 2 \n",
    "            b_center_y = (b[\"ymin\"] + b[\"ymax\"]) / 2\n",
    "            b_width    = (b[\"xmax\"] - b[\"xmin\"])\n",
    "            b_height   = (b[\"ymax\"] - b[\"ymin\"])\n",
    "            \n",
    "            # Normalize the coordinates\n",
    "            b_center_x /= image_w \n",
    "            b_center_y /= image_h \n",
    "            b_width    /= image_w \n",
    "            b_height   /= image_h \n",
    "            \n",
    "            # Convert to YOLO format\n",
    "            annot = [class_name_to_id_mapping[b['class']], b_center_x, b_center_y, b_width, b_height]\n",
    "            annots.append(annot)\n",
    "        \n",
    "        # Append the image path and corresponding annotations\n",
    "        IMAGE_PATHS.append(iPath)\n",
    "        LABELS.append(annots)\n",
    "        \n",
    "    return IMAGE_PATHS, LABELS\n",
    "\n",
    "iPath, lPath = create_dataset(DATA_PATH)"
   ]
  },
  {
   "cell_type": "code",
   "execution_count": 10,
   "id": "b8787819",
   "metadata": {
    "execution": {
     "iopub.execute_input": "2024-05-02T08:53:17.380322Z",
     "iopub.status.busy": "2024-05-02T08:53:17.379964Z",
     "iopub.status.idle": "2024-05-02T08:53:17.384119Z",
     "shell.execute_reply": "2024-05-02T08:53:17.383250Z"
    },
    "papermill": {
     "duration": 0.01794,
     "end_time": "2024-05-02T08:53:17.386387",
     "exception": false,
     "start_time": "2024-05-02T08:53:17.368447",
     "status": "completed"
    },
    "tags": []
   },
   "outputs": [],
   "source": [
    "# lPath"
   ]
  },
  {
   "cell_type": "code",
   "execution_count": 11,
   "id": "789a6045",
   "metadata": {
    "execution": {
     "iopub.execute_input": "2024-05-02T08:53:17.409089Z",
     "iopub.status.busy": "2024-05-02T08:53:17.408764Z",
     "iopub.status.idle": "2024-05-02T08:53:17.412975Z",
     "shell.execute_reply": "2024-05-02T08:53:17.412119Z"
    },
    "papermill": {
     "duration": 0.016344,
     "end_time": "2024-05-02T08:53:17.414829",
     "exception": false,
     "start_time": "2024-05-02T08:53:17.398485",
     "status": "completed"
    },
    "tags": []
   },
   "outputs": [],
   "source": [
    "from sklearn import model_selection"
   ]
  },
  {
   "cell_type": "code",
   "execution_count": 12,
   "id": "e66ee729",
   "metadata": {
    "execution": {
     "iopub.execute_input": "2024-05-02T08:53:17.433559Z",
     "iopub.status.busy": "2024-05-02T08:53:17.432983Z",
     "iopub.status.idle": "2024-05-02T08:53:17.443058Z",
     "shell.execute_reply": "2024-05-02T08:53:17.442288Z"
    },
    "papermill": {
     "duration": 0.021507,
     "end_time": "2024-05-02T08:53:17.445029",
     "exception": false,
     "start_time": "2024-05-02T08:53:17.423522",
     "status": "completed"
    },
    "tags": []
   },
   "outputs": [],
   "source": [
    "train_images, val_images, train_annotations, val_annotations = model_selection.train_test_split(\n",
    "    iPath, lPath, test_size=0.2, random_state=42\n",
    ")\n",
    "\n",
    "# val_images, val_annotations, test_images, test_annotations = model_selection.train_test_split(\n",
    "#     val_images, val_annotations, test_size=0.5, random_state=42\n",
    "# )"
   ]
  },
  {
   "cell_type": "code",
   "execution_count": 13,
   "id": "773b1950",
   "metadata": {
    "execution": {
     "iopub.execute_input": "2024-05-02T08:53:17.463902Z",
     "iopub.status.busy": "2024-05-02T08:53:17.463317Z",
     "iopub.status.idle": "2024-05-02T08:53:22.167774Z",
     "shell.execute_reply": "2024-05-02T08:53:22.166634Z"
    },
    "papermill": {
     "duration": 4.716513,
     "end_time": "2024-05-02T08:53:22.170243",
     "exception": false,
     "start_time": "2024-05-02T08:53:17.453730",
     "status": "completed"
    },
    "tags": []
   },
   "outputs": [],
   "source": [
    "!mkdir /kaggle/working/roadsigndetection\n",
    "!mkdir /kaggle/working/roadsigndetection/train\n",
    "!mkdir /kaggle/working/roadsigndetection/valid\n",
    "\n",
    "!mkdir /kaggle/working/roadsigndetection/train/images /kaggle/working/roadsigndetection/train/labels\n",
    "!mkdir /kaggle/working/roadsigndetection/valid/images /kaggle/working/roadsigndetection/valid/labels"
   ]
  },
  {
   "cell_type": "code",
   "execution_count": 14,
   "id": "6ca2f5f5",
   "metadata": {
    "execution": {
     "iopub.execute_input": "2024-05-02T08:53:22.189609Z",
     "iopub.status.busy": "2024-05-02T08:53:22.189275Z",
     "iopub.status.idle": "2024-05-02T08:53:22.197779Z",
     "shell.execute_reply": "2024-05-02T08:53:22.196957Z"
    },
    "papermill": {
     "duration": 0.020523,
     "end_time": "2024-05-02T08:53:22.199660",
     "exception": false,
     "start_time": "2024-05-02T08:53:22.179137",
     "status": "completed"
    },
    "tags": []
   },
   "outputs": [],
   "source": [
    "def move_file_to_folder(file, destination):\n",
    "    try:\n",
    "        shutil.move(file, destination)\n",
    "    except Exception as e:\n",
    "        print(f\"Error moving file {file}: {e}\")\n",
    "        assert False\n",
    "        \n",
    "def write_annotations(name, annots, annot_dest):\n",
    "    with open(f'{annot_dest}/{name}.txt', 'w') as f:\n",
    "        for annot in annots:\n",
    "            annot_str = ' '.join(map(str, annot))\n",
    "            f.write(annot_str + '\\n')\n",
    "\n",
    "def create_folders(img_paths, annot_paths, img_dest, annot_dest):\n",
    "    for i in tqdm(range(len(img_paths))):\n",
    "        img_path = img_paths[i]\n",
    "        img = PIL.Image.open(img_path).convert(\"RGB\")\n",
    "        name = Path(img_path).stem\n",
    "        img.save(f\"{name}.png\")\n",
    "        file = f\"{name}.png\"\n",
    "        move_file_to_folder(file, img_dest)\n",
    "\n",
    "        annots = annot_paths[i]\n",
    "        write_annotations(name, annots, annot_dest)"
   ]
  },
  {
   "cell_type": "code",
   "execution_count": 16,
   "id": "ccad2a95",
   "metadata": {
    "execution": {
     "iopub.execute_input": "2024-05-02T08:53:22.242286Z",
     "iopub.status.busy": "2024-05-02T08:53:22.242044Z",
     "iopub.status.idle": "2024-05-02T08:54:17.022470Z",
     "shell.execute_reply": "2024-05-02T08:54:17.021528Z"
    },
    "papermill": {
     "duration": 54.792067,
     "end_time": "2024-05-02T08:54:17.024470",
     "exception": false,
     "start_time": "2024-05-02T08:53:22.232403",
     "status": "completed"
    },
    "tags": []
   },
   "outputs": [
    {
     "data": {
      "application/vnd.jupyter.widget-view+json": {
       "model_id": "e0adb630a5d14ff9ad95c5801a28c77e",
       "version_major": 2,
       "version_minor": 0
      },
      "text/plain": [
       "  0%|          | 0/701 [00:00<?, ?it/s]"
      ]
     },
     "metadata": {},
     "output_type": "display_data"
    },
    {
     "data": {
      "application/vnd.jupyter.widget-view+json": {
       "model_id": "ae458166313f487a93d56ad463d7951b",
       "version_major": 2,
       "version_minor": 0
      },
      "text/plain": [
       "  0%|          | 0/176 [00:00<?, ?it/s]"
      ]
     },
     "metadata": {},
     "output_type": "display_data"
    }
   ],
   "source": [
    "create_folders(img_paths=train_images, \n",
    "               annot_paths=train_annotations,\n",
    "               img_dest=\"/kaggle/working/roadsigndetection/train/images\",\n",
    "               annot_dest=\"/kaggle/working/roadsigndetection/train/labels\"\n",
    "              )\n",
    "\n",
    "create_folders(img_paths=val_images, \n",
    "               annot_paths=val_annotations,\n",
    "               img_dest=\"/kaggle/working/roadsigndetection/valid/images\",\n",
    "               annot_dest=\"/kaggle/working/roadsigndetection/valid/labels\"\n",
    "              )"
   ]
  },
  {
   "cell_type": "code",
   "execution_count": 17,
   "id": "983def48",
   "metadata": {
    "execution": {
     "iopub.execute_input": "2024-05-02T08:54:17.044697Z",
     "iopub.status.busy": "2024-05-02T08:54:17.044383Z",
     "iopub.status.idle": "2024-05-02T08:54:17.048435Z",
     "shell.execute_reply": "2024-05-02T08:54:17.047582Z"
    },
    "papermill": {
     "duration": 0.016667,
     "end_time": "2024-05-02T08:54:17.050422",
     "exception": false,
     "start_time": "2024-05-02T08:54:17.033755",
     "status": "completed"
    },
    "tags": []
   },
   "outputs": [],
   "source": [
    "# os.listdir(\"/kaggle/working/roadsigndetection/train/labels\")"
   ]
  },
  {
   "cell_type": "code",
   "execution_count": 18,
   "id": "83b83aa3",
   "metadata": {
    "execution": {
     "iopub.execute_input": "2024-05-02T08:54:17.069180Z",
     "iopub.status.busy": "2024-05-02T08:54:17.068926Z",
     "iopub.status.idle": "2024-05-02T08:54:17.074747Z",
     "shell.execute_reply": "2024-05-02T08:54:17.073931Z"
    },
    "papermill": {
     "duration": 0.017505,
     "end_time": "2024-05-02T08:54:17.076716",
     "exception": false,
     "start_time": "2024-05-02T08:54:17.059211",
     "status": "completed"
    },
    "tags": []
   },
   "outputs": [],
   "source": [
    "class CFG:\n",
    "    DEBUG = False\n",
    "    FRACTION = 0.05 if DEBUG else 1.0\n",
    "    SEED = 42\n",
    "\n",
    "    # training\n",
    "#     EPOCHS = 3 if DEBUG else 50 # 100\n",
    "    EPOCHS = 15\n",
    "    BATCH_SIZE = 8\n",
    "\n",
    "    BASE_MODEL = 'yolov8n' # yolov8n, yolov8s, yolov8m, yolov8l, yolov8x, yolov9c, yolov9e\n",
    "    BASE_MODEL_WEIGHTS = f'{BASE_MODEL}.pt'\n",
    "    EXP_NAME = f'road_sign_{EPOCHS}_epochs'\n",
    "\n",
    "    OPTIMIZER = 'auto' # SGD, Adam, Adamax, AdamW, NAdam, RAdam, RMSProp, auto\n",
    "    LR = 1e-3\n",
    "    LR_FACTOR = 0.01\n",
    "    WEIGHT_DECAY = 5e-4\n",
    "    DROPOUT = 0.0\n",
    "    PATIENCE = 20\n",
    "    PROFILE = False\n",
    "\n",
    "    CUSTOM_DATASET_DIR = \"/kaggle/working/roadsigndetection\"\n",
    "    OUTPUT_DIR = os.getcwd()\n",
    "#     OUTPUT_DIR = \"/kaggle/working/roadsigndetection/\""
   ]
  },
  {
   "cell_type": "code",
   "execution_count": 19,
   "id": "b433d07b",
   "metadata": {
    "execution": {
     "iopub.execute_input": "2024-05-02T08:54:17.095875Z",
     "iopub.status.busy": "2024-05-02T08:54:17.095590Z",
     "iopub.status.idle": "2024-05-02T08:54:17.102542Z",
     "shell.execute_reply": "2024-05-02T08:54:17.101859Z"
    },
    "papermill": {
     "duration": 0.018488,
     "end_time": "2024-05-02T08:54:17.104378",
     "exception": false,
     "start_time": "2024-05-02T08:54:17.085890",
     "status": "completed"
    },
    "tags": []
   },
   "outputs": [],
   "source": [
    "dict_file = {\n",
    "    \"train\": os.path.join(CFG.CUSTOM_DATASET_DIR, \"train\"),\n",
    "    \"val\": os.path.join(CFG.CUSTOM_DATASET_DIR, \"valid\"),\n",
    "#     \"test\": os.path.join(CFG.CUSTOM_DATASET_DIR, \"test\"),\n",
    "    \"nc\": 4,\n",
    "    \"names\": {0: \"trafficlight\",\n",
    "             1: \"stop\",\n",
    "             2: \"speedlimit\",\n",
    "             3: \"crosswalk\"},\n",
    "}\n",
    "\n",
    "with open(os.path.join(CFG.OUTPUT_DIR, \"data.yaml\"), \"w+\") as f:\n",
    "    yaml.dump(dict_file, f)"
   ]
  },
  {
   "cell_type": "code",
   "execution_count": 20,
   "id": "33927cf3",
   "metadata": {
    "execution": {
     "iopub.execute_input": "2024-05-02T08:54:17.123582Z",
     "iopub.status.busy": "2024-05-02T08:54:17.123033Z",
     "iopub.status.idle": "2024-05-02T08:54:17.132472Z",
     "shell.execute_reply": "2024-05-02T08:54:17.131513Z"
    },
    "papermill": {
     "duration": 0.021087,
     "end_time": "2024-05-02T08:54:17.134311",
     "exception": false,
     "start_time": "2024-05-02T08:54:17.113224",
     "status": "completed"
    },
    "tags": []
   },
   "outputs": [
    {
     "name": "stdout",
     "output_type": "stream",
     "text": [
      "names:\n",
      "  0: trafficlight\n",
      "  1: stop\n",
      "  2: speedlimit\n",
      "  3: crosswalk\n",
      "nc: 4\n",
      "train: /kaggle/working/roadsigndetection/train\n",
      "val: /kaggle/working/roadsigndetection/valid\n",
      "\n"
     ]
    }
   ],
   "source": [
    "# read yaml file created\n",
    "def read_yaml_file(file_path=CFG.CUSTOM_DATASET_DIR):\n",
    "    with open(file_path, \"r\") as f:\n",
    "        try:\n",
    "            data = yaml.safe_load(f)\n",
    "            return data\n",
    "        except yaml.YAMLError as e:\n",
    "            print(f\"Error reading YAML: {e}\")\n",
    "            return None\n",
    "\n",
    "def print_yaml_data(data):\n",
    "    formatted_yaml = yaml.dump(data, default_style=False)\n",
    "    print(formatted_yaml)\n",
    "\n",
    "file_path = os.path.join(CFG.OUTPUT_DIR, \"data.yaml\")\n",
    "yaml_data = read_yaml_file(file_path)\n",
    "\n",
    "if yaml_data:\n",
    "    print_yaml_data(yaml_data)"
   ]
  },
  {
   "cell_type": "code",
   "execution_count": 21,
   "id": "2cdb2ff9",
   "metadata": {
    "execution": {
     "iopub.execute_input": "2024-05-02T08:54:17.153351Z",
     "iopub.status.busy": "2024-05-02T08:54:17.152895Z",
     "iopub.status.idle": "2024-05-02T08:54:31.581179Z",
     "shell.execute_reply": "2024-05-02T08:54:31.580061Z"
    },
    "papermill": {
     "duration": 14.44049,
     "end_time": "2024-05-02T08:54:31.583691",
     "exception": false,
     "start_time": "2024-05-02T08:54:17.143201",
     "status": "completed"
    },
    "tags": []
   },
   "outputs": [],
   "source": [
    "!pip install -qU ultralytics"
   ]
  },
  {
   "cell_type": "code",
   "execution_count": 22,
   "id": "fb2db533",
   "metadata": {
    "execution": {
     "iopub.execute_input": "2024-05-02T08:54:31.604297Z",
     "iopub.status.busy": "2024-05-02T08:54:31.603690Z",
     "iopub.status.idle": "2024-05-02T08:54:35.752805Z",
     "shell.execute_reply": "2024-05-02T08:54:35.751967Z"
    },
    "papermill": {
     "duration": 4.161741,
     "end_time": "2024-05-02T08:54:35.755109",
     "exception": false,
     "start_time": "2024-05-02T08:54:31.593368",
     "status": "completed"
    },
    "tags": []
   },
   "outputs": [],
   "source": [
    "import torch\n",
    "\n",
    "from ultralytics import YOLO"
   ]
  },
  {
   "cell_type": "code",
   "execution_count": null,
   "id": "f524400f",
   "metadata": {
    "execution": {
     "iopub.execute_input": "2024-05-02T08:54:35.775274Z",
     "iopub.status.busy": "2024-05-02T08:54:35.774752Z",
     "iopub.status.idle": "2024-05-02T08:58:32.815669Z",
     "shell.execute_reply": "2024-05-02T08:58:32.814629Z"
    },
    "papermill": {
     "duration": 237.055151,
     "end_time": "2024-05-02T08:58:32.819814",
     "exception": false,
     "start_time": "2024-05-02T08:54:35.764663",
     "status": "completed"
    },
    "tags": []
   },
   "outputs": [],
   "source": [
    "# Load pre-trained YOLO model\n",
    "# flush()\n",
    "model = YOLO(CFG.BASE_MODEL_WEIGHTS)\n",
    "\n",
    "model.train(\n",
    "    data = os.path.join(CFG.OUTPUT_DIR, 'data.yaml'),\n",
    "\n",
    "    task = 'detect',\n",
    "\n",
    "    imgsz = (512, 512), # (img_properties['height'], img_properties['width'])\n",
    "\n",
    "    epochs = CFG.EPOCHS,\n",
    "    batch = CFG.BATCH_SIZE,\n",
    "    optimizer = CFG.OPTIMIZER,\n",
    "    lr0 = CFG.LR,\n",
    "    lrf = CFG.LR_FACTOR,\n",
    "    weight_decay = CFG.WEIGHT_DECAY,\n",
    "    dropout = CFG.DROPOUT,\n",
    "    fraction = CFG.FRACTION,\n",
    "    patience = CFG.PATIENCE,\n",
    "    profile = CFG.PROFILE,\n",
    "\n",
    "    name = f'{CFG.BASE_MODEL}_{CFG.EXP_NAME}',\n",
    "    seed = CFG.SEED,\n",
    "\n",
    "    val = True,\n",
    "    amp = True,\n",
    "    exist_ok = True,\n",
    "    resume = False,\n",
    "    device = 0, # [0,1]\n",
    "    verbose = False,\n",
    ")\n",
    "\n",
    "# flush()"
   ]
  },
  {
   "cell_type": "code",
   "execution_count": 24,
   "id": "eb735105",
   "metadata": {
    "execution": {
     "iopub.execute_input": "2024-05-02T08:58:33.236954Z",
     "iopub.status.busy": "2024-05-02T08:58:33.236579Z",
     "iopub.status.idle": "2024-05-02T08:58:49.545732Z",
     "shell.execute_reply": "2024-05-02T08:58:49.544687Z"
    },
    "papermill": {
     "duration": 16.522673,
     "end_time": "2024-05-02T08:58:49.548021",
     "exception": false,
     "start_time": "2024-05-02T08:58:33.025348",
     "status": "completed"
    },
    "tags": []
   },
   "outputs": [
    {
     "name": "stdout",
     "output_type": "stream",
     "text": [
      "\u001b[31mERROR: pip's dependency resolver does not currently take into account all the packages that are installed. This behaviour is the source of the following dependency conflicts.\r\n",
      "tensorflow-decision-forests 1.8.1 requires wurlitzer, which is not installed.\r\n",
      "jupyterlab 4.1.6 requires jupyter-lsp>=2.0.0, but you have jupyter-lsp 1.5.1 which is incompatible.\r\n",
      "jupyterlab-lsp 5.1.0 requires jupyter-lsp>=2.0.0, but you have jupyter-lsp 1.5.1 which is incompatible.\r\n",
      "libpysal 4.9.2 requires packaging>=22, but you have packaging 21.3 which is incompatible.\r\n",
      "libpysal 4.9.2 requires shapely>=2.0.1, but you have shapely 1.8.5.post1 which is incompatible.\r\n",
      "momepy 0.7.0 requires shapely>=2, but you have shapely 1.8.5.post1 which is incompatible.\r\n",
      "osmnx 1.9.2 requires shapely>=2.0, but you have shapely 1.8.5.post1 which is incompatible.\r\n",
      "spopt 0.6.0 requires shapely>=2.0.1, but you have shapely 1.8.5.post1 which is incompatible.\r\n",
      "tensorflow 2.15.0 requires keras<2.16,>=2.15.0, but you have keras 3.2.1 which is incompatible.\r\n",
      "ydata-profiling 4.6.4 requires numpy<1.26,>=1.16.0, but you have numpy 1.26.4 which is incompatible.\u001b[0m\u001b[31m\r\n",
      "\u001b[0m"
     ]
    }
   ],
   "source": [
    "!pip install -q roboflow"
   ]
  },
  {
   "cell_type": "code",
   "execution_count": 25,
   "id": "9ea7b46e",
   "metadata": {
    "execution": {
     "iopub.execute_input": "2024-05-02T08:58:49.972474Z",
     "iopub.status.busy": "2024-05-02T08:58:49.972088Z",
     "iopub.status.idle": "2024-05-02T08:58:50.054491Z",
     "shell.execute_reply": "2024-05-02T08:58:50.053725Z"
    },
    "papermill": {
     "duration": 0.30264,
     "end_time": "2024-05-02T08:58:50.056835",
     "exception": false,
     "start_time": "2024-05-02T08:58:49.754195",
     "status": "completed"
    },
    "tags": []
   },
   "outputs": [],
   "source": [
    "from roboflow import Roboflow"
   ]
  },
  {
   "cell_type": "code",
   "execution_count": 26,
   "id": "4e115425",
   "metadata": {
    "execution": {
     "iopub.execute_input": "2024-05-02T08:58:50.473701Z",
     "iopub.status.busy": "2024-05-02T08:58:50.473326Z",
     "iopub.status.idle": "2024-05-02T08:58:50.480119Z",
     "shell.execute_reply": "2024-05-02T08:58:50.479212Z"
    },
    "papermill": {
     "duration": 0.21924,
     "end_time": "2024-05-02T08:58:50.482051",
     "exception": false,
     "start_time": "2024-05-02T08:58:50.262811",
     "status": "completed"
    },
    "tags": []
   },
   "outputs": [
    {
     "data": {
      "text/plain": [
       "['last.pt', 'best.pt']"
      ]
     },
     "execution_count": 26,
     "metadata": {},
     "output_type": "execute_result"
    }
   ],
   "source": [
    "os.listdir(\"/kaggle/working/runs/detect/yolov8n_road_sign_15_epochs/weights\")"
   ]
  },
  {
   "cell_type": "code",
   "execution_count": 27,
   "id": "18c0c7a7",
   "metadata": {
    "execution": {
     "iopub.execute_input": "2024-05-02T08:58:50.898621Z",
     "iopub.status.busy": "2024-05-02T08:58:50.897645Z",
     "iopub.status.idle": "2024-05-02T08:58:50.902087Z",
     "shell.execute_reply": "2024-05-02T08:58:50.901152Z"
    },
    "papermill": {
     "duration": 0.212943,
     "end_time": "2024-05-02T08:58:50.903956",
     "exception": false,
     "start_time": "2024-05-02T08:58:50.691013",
     "status": "completed"
    },
    "tags": []
   },
   "outputs": [],
   "source": [
    "# rf = Roboflow(api_key=\"OCBifQIjZFRiufOmNlKZ\")\n",
    "# project = rf.workspace().project(\"\")"
   ]
  }
 ],
 "metadata": {
  "kaggle": {
   "accelerator": "gpu",
   "dataSources": [
    {
     "datasetId": 671172,
     "sourceId": 1181356,
     "sourceType": "datasetVersion"
    }
   ],
   "dockerImageVersionId": 30698,
   "isGpuEnabled": true,
   "isInternetEnabled": true,
   "language": "python",
   "sourceType": "notebook"
  },
  "kernelspec": {
   "display_name": "Python 3",
   "language": "python",
   "name": "python3"
  },
  "language_info": {
   "codemirror_mode": {
    "name": "ipython",
    "version": 3
   },
   "file_extension": ".py",
   "mimetype": "text/x-python",
   "name": "python",
   "nbconvert_exporter": "python",
   "pygments_lexer": "ipython3",
   "version": "3.10.13"
  },
  "papermill": {
   "default_parameters": {},
   "duration": 355.151571,
   "end_time": "2024-05-02T08:58:53.944407",
   "environment_variables": {},
   "exception": null,
   "input_path": "__notebook__.ipynb",
   "output_path": "__notebook__.ipynb",
   "parameters": {},
   "start_time": "2024-05-02T08:52:58.792836",
   "version": "2.5.0"
  },
  "widgets": {
   "application/vnd.jupyter.widget-state+json": {
    "state": {
     "05177d8b0b75406799b30c4c1ac7c6f0": {
      "model_module": "@jupyter-widgets/base",
      "model_module_version": "1.2.0",
      "model_name": "LayoutModel",
      "state": {
       "_model_module": "@jupyter-widgets/base",
       "_model_module_version": "1.2.0",
       "_model_name": "LayoutModel",
       "_view_count": null,
       "_view_module": "@jupyter-widgets/base",
       "_view_module_version": "1.2.0",
       "_view_name": "LayoutView",
       "align_content": null,
       "align_items": null,
       "align_self": null,
       "border": null,
       "bottom": null,
       "display": null,
       "flex": null,
       "flex_flow": null,
       "grid_area": null,
       "grid_auto_columns": null,
       "grid_auto_flow": null,
       "grid_auto_rows": null,
       "grid_column": null,
       "grid_gap": null,
       "grid_row": null,
       "grid_template_areas": null,
       "grid_template_columns": null,
       "grid_template_rows": null,
       "height": null,
       "justify_content": null,
       "justify_items": null,
       "left": null,
       "margin": null,
       "max_height": null,
       "max_width": null,
       "min_height": null,
       "min_width": null,
       "object_fit": null,
       "object_position": null,
       "order": null,
       "overflow": null,
       "overflow_x": null,
       "overflow_y": null,
       "padding": null,
       "right": null,
       "top": null,
       "visibility": null,
       "width": null
      }
     },
     "0c39b327214748c2bba0dfd7e0904182": {
      "model_module": "@jupyter-widgets/base",
      "model_module_version": "1.2.0",
      "model_name": "LayoutModel",
      "state": {
       "_model_module": "@jupyter-widgets/base",
       "_model_module_version": "1.2.0",
       "_model_name": "LayoutModel",
       "_view_count": null,
       "_view_module": "@jupyter-widgets/base",
       "_view_module_version": "1.2.0",
       "_view_name": "LayoutView",
       "align_content": null,
       "align_items": null,
       "align_self": null,
       "border": null,
       "bottom": null,
       "display": null,
       "flex": null,
       "flex_flow": null,
       "grid_area": null,
       "grid_auto_columns": null,
       "grid_auto_flow": null,
       "grid_auto_rows": null,
       "grid_column": null,
       "grid_gap": null,
       "grid_row": null,
       "grid_template_areas": null,
       "grid_template_columns": null,
       "grid_template_rows": null,
       "height": null,
       "justify_content": null,
       "justify_items": null,
       "left": null,
       "margin": null,
       "max_height": null,
       "max_width": null,
       "min_height": null,
       "min_width": null,
       "object_fit": null,
       "object_position": null,
       "order": null,
       "overflow": null,
       "overflow_x": null,
       "overflow_y": null,
       "padding": null,
       "right": null,
       "top": null,
       "visibility": null,
       "width": null
      }
     },
     "0ccdabc9ecf64d8c99267f1f54305163": {
      "model_module": "@jupyter-widgets/controls",
      "model_module_version": "1.5.0",
      "model_name": "HTMLModel",
      "state": {
       "_dom_classes": [],
       "_model_module": "@jupyter-widgets/controls",
       "_model_module_version": "1.5.0",
       "_model_name": "HTMLModel",
       "_view_count": null,
       "_view_module": "@jupyter-widgets/controls",
       "_view_module_version": "1.5.0",
       "_view_name": "HTMLView",
       "description": "",
       "description_tooltip": null,
       "layout": "IPY_MODEL_b21a4e9487db4169ba7c69d2cbff8876",
       "placeholder": "​",
       "style": "IPY_MODEL_797cfd0fbc894416981cd1ef1b15a625",
       "value": " 877/877 [00:10&lt;00:00, 74.53it/s]"
      }
     },
     "12b51c23ee364203a2554c540082c404": {
      "model_module": "@jupyter-widgets/base",
      "model_module_version": "1.2.0",
      "model_name": "LayoutModel",
      "state": {
       "_model_module": "@jupyter-widgets/base",
       "_model_module_version": "1.2.0",
       "_model_name": "LayoutModel",
       "_view_count": null,
       "_view_module": "@jupyter-widgets/base",
       "_view_module_version": "1.2.0",
       "_view_name": "LayoutView",
       "align_content": null,
       "align_items": null,
       "align_self": null,
       "border": null,
       "bottom": null,
       "display": null,
       "flex": null,
       "flex_flow": null,
       "grid_area": null,
       "grid_auto_columns": null,
       "grid_auto_flow": null,
       "grid_auto_rows": null,
       "grid_column": null,
       "grid_gap": null,
       "grid_row": null,
       "grid_template_areas": null,
       "grid_template_columns": null,
       "grid_template_rows": null,
       "height": null,
       "justify_content": null,
       "justify_items": null,
       "left": null,
       "margin": null,
       "max_height": null,
       "max_width": null,
       "min_height": null,
       "min_width": null,
       "object_fit": null,
       "object_position": null,
       "order": null,
       "overflow": null,
       "overflow_x": null,
       "overflow_y": null,
       "padding": null,
       "right": null,
       "top": null,
       "visibility": null,
       "width": null
      }
     },
     "12c64f1365264284bbde1128675505a8": {
      "model_module": "@jupyter-widgets/base",
      "model_module_version": "1.2.0",
      "model_name": "LayoutModel",
      "state": {
       "_model_module": "@jupyter-widgets/base",
       "_model_module_version": "1.2.0",
       "_model_name": "LayoutModel",
       "_view_count": null,
       "_view_module": "@jupyter-widgets/base",
       "_view_module_version": "1.2.0",
       "_view_name": "LayoutView",
       "align_content": null,
       "align_items": null,
       "align_self": null,
       "border": null,
       "bottom": null,
       "display": null,
       "flex": null,
       "flex_flow": null,
       "grid_area": null,
       "grid_auto_columns": null,
       "grid_auto_flow": null,
       "grid_auto_rows": null,
       "grid_column": null,
       "grid_gap": null,
       "grid_row": null,
       "grid_template_areas": null,
       "grid_template_columns": null,
       "grid_template_rows": null,
       "height": null,
       "justify_content": null,
       "justify_items": null,
       "left": null,
       "margin": null,
       "max_height": null,
       "max_width": null,
       "min_height": null,
       "min_width": null,
       "object_fit": null,
       "object_position": null,
       "order": null,
       "overflow": null,
       "overflow_x": null,
       "overflow_y": null,
       "padding": null,
       "right": null,
       "top": null,
       "visibility": null,
       "width": null
      }
     },
     "2dabc4ab9c9b4a00a0b027d273a36b1c": {
      "model_module": "@jupyter-widgets/controls",
      "model_module_version": "1.5.0",
      "model_name": "DescriptionStyleModel",
      "state": {
       "_model_module": "@jupyter-widgets/controls",
       "_model_module_version": "1.5.0",
       "_model_name": "DescriptionStyleModel",
       "_view_count": null,
       "_view_module": "@jupyter-widgets/base",
       "_view_module_version": "1.2.0",
       "_view_name": "StyleView",
       "description_width": ""
      }
     },
     "30e0b3c0f61e4c9ea7876990480b35b6": {
      "model_module": "@jupyter-widgets/base",
      "model_module_version": "1.2.0",
      "model_name": "LayoutModel",
      "state": {
       "_model_module": "@jupyter-widgets/base",
       "_model_module_version": "1.2.0",
       "_model_name": "LayoutModel",
       "_view_count": null,
       "_view_module": "@jupyter-widgets/base",
       "_view_module_version": "1.2.0",
       "_view_name": "LayoutView",
       "align_content": null,
       "align_items": null,
       "align_self": null,
       "border": null,
       "bottom": null,
       "display": null,
       "flex": null,
       "flex_flow": null,
       "grid_area": null,
       "grid_auto_columns": null,
       "grid_auto_flow": null,
       "grid_auto_rows": null,
       "grid_column": null,
       "grid_gap": null,
       "grid_row": null,
       "grid_template_areas": null,
       "grid_template_columns": null,
       "grid_template_rows": null,
       "height": null,
       "justify_content": null,
       "justify_items": null,
       "left": null,
       "margin": null,
       "max_height": null,
       "max_width": null,
       "min_height": null,
       "min_width": null,
       "object_fit": null,
       "object_position": null,
       "order": null,
       "overflow": null,
       "overflow_x": null,
       "overflow_y": null,
       "padding": null,
       "right": null,
       "top": null,
       "visibility": null,
       "width": null
      }
     },
     "4472030c967649efb6c8573071e06ea1": {
      "model_module": "@jupyter-widgets/controls",
      "model_module_version": "1.5.0",
      "model_name": "HTMLModel",
      "state": {
       "_dom_classes": [],
       "_model_module": "@jupyter-widgets/controls",
       "_model_module_version": "1.5.0",
       "_model_name": "HTMLModel",
       "_view_count": null,
       "_view_module": "@jupyter-widgets/controls",
       "_view_module_version": "1.5.0",
       "_view_name": "HTMLView",
       "description": "",
       "description_tooltip": null,
       "layout": "IPY_MODEL_bec04c3b38504f2587a714659e108d43",
       "placeholder": "​",
       "style": "IPY_MODEL_9c9f4a0a39ec4af9a84de035349410aa",
       "value": "100%"
      }
     },
     "4612a4027e4641bf96512dad4dc8ae99": {
      "model_module": "@jupyter-widgets/controls",
      "model_module_version": "1.5.0",
      "model_name": "FloatProgressModel",
      "state": {
       "_dom_classes": [],
       "_model_module": "@jupyter-widgets/controls",
       "_model_module_version": "1.5.0",
       "_model_name": "FloatProgressModel",
       "_view_count": null,
       "_view_module": "@jupyter-widgets/controls",
       "_view_module_version": "1.5.0",
       "_view_name": "ProgressView",
       "bar_style": "success",
       "description": "",
       "description_tooltip": null,
       "layout": "IPY_MODEL_12b51c23ee364203a2554c540082c404",
       "max": 877,
       "min": 0,
       "orientation": "horizontal",
       "style": "IPY_MODEL_7c1024f28fed4d48afafa5beffb39551",
       "value": 877
      }
     },
     "4e75026bf47a40eba1f3d104c2859de5": {
      "model_module": "@jupyter-widgets/controls",
      "model_module_version": "1.5.0",
      "model_name": "ProgressStyleModel",
      "state": {
       "_model_module": "@jupyter-widgets/controls",
       "_model_module_version": "1.5.0",
       "_model_name": "ProgressStyleModel",
       "_view_count": null,
       "_view_module": "@jupyter-widgets/base",
       "_view_module_version": "1.2.0",
       "_view_name": "StyleView",
       "bar_color": null,
       "description_width": ""
      }
     },
     "72edcd6ed1f94879b148c86d186b343c": {
      "model_module": "@jupyter-widgets/base",
      "model_module_version": "1.2.0",
      "model_name": "LayoutModel",
      "state": {
       "_model_module": "@jupyter-widgets/base",
       "_model_module_version": "1.2.0",
       "_model_name": "LayoutModel",
       "_view_count": null,
       "_view_module": "@jupyter-widgets/base",
       "_view_module_version": "1.2.0",
       "_view_name": "LayoutView",
       "align_content": null,
       "align_items": null,
       "align_self": null,
       "border": null,
       "bottom": null,
       "display": null,
       "flex": null,
       "flex_flow": null,
       "grid_area": null,
       "grid_auto_columns": null,
       "grid_auto_flow": null,
       "grid_auto_rows": null,
       "grid_column": null,
       "grid_gap": null,
       "grid_row": null,
       "grid_template_areas": null,
       "grid_template_columns": null,
       "grid_template_rows": null,
       "height": null,
       "justify_content": null,
       "justify_items": null,
       "left": null,
       "margin": null,
       "max_height": null,
       "max_width": null,
       "min_height": null,
       "min_width": null,
       "object_fit": null,
       "object_position": null,
       "order": null,
       "overflow": null,
       "overflow_x": null,
       "overflow_y": null,
       "padding": null,
       "right": null,
       "top": null,
       "visibility": null,
       "width": null
      }
     },
     "797cfd0fbc894416981cd1ef1b15a625": {
      "model_module": "@jupyter-widgets/controls",
      "model_module_version": "1.5.0",
      "model_name": "DescriptionStyleModel",
      "state": {
       "_model_module": "@jupyter-widgets/controls",
       "_model_module_version": "1.5.0",
       "_model_name": "DescriptionStyleModel",
       "_view_count": null,
       "_view_module": "@jupyter-widgets/base",
       "_view_module_version": "1.2.0",
       "_view_name": "StyleView",
       "description_width": ""
      }
     },
     "7c1024f28fed4d48afafa5beffb39551": {
      "model_module": "@jupyter-widgets/controls",
      "model_module_version": "1.5.0",
      "model_name": "ProgressStyleModel",
      "state": {
       "_model_module": "@jupyter-widgets/controls",
       "_model_module_version": "1.5.0",
       "_model_name": "ProgressStyleModel",
       "_view_count": null,
       "_view_module": "@jupyter-widgets/base",
       "_view_module_version": "1.2.0",
       "_view_name": "StyleView",
       "bar_color": null,
       "description_width": ""
      }
     },
     "7dd2f8b9e14646c9a53750f1d313c7c6": {
      "model_module": "@jupyter-widgets/base",
      "model_module_version": "1.2.0",
      "model_name": "LayoutModel",
      "state": {
       "_model_module": "@jupyter-widgets/base",
       "_model_module_version": "1.2.0",
       "_model_name": "LayoutModel",
       "_view_count": null,
       "_view_module": "@jupyter-widgets/base",
       "_view_module_version": "1.2.0",
       "_view_name": "LayoutView",
       "align_content": null,
       "align_items": null,
       "align_self": null,
       "border": null,
       "bottom": null,
       "display": null,
       "flex": null,
       "flex_flow": null,
       "grid_area": null,
       "grid_auto_columns": null,
       "grid_auto_flow": null,
       "grid_auto_rows": null,
       "grid_column": null,
       "grid_gap": null,
       "grid_row": null,
       "grid_template_areas": null,
       "grid_template_columns": null,
       "grid_template_rows": null,
       "height": null,
       "justify_content": null,
       "justify_items": null,
       "left": null,
       "margin": null,
       "max_height": null,
       "max_width": null,
       "min_height": null,
       "min_width": null,
       "object_fit": null,
       "object_position": null,
       "order": null,
       "overflow": null,
       "overflow_x": null,
       "overflow_y": null,
       "padding": null,
       "right": null,
       "top": null,
       "visibility": null,
       "width": null
      }
     },
     "80e5e322d03b486890a576a73a489a1f": {
      "model_module": "@jupyter-widgets/base",
      "model_module_version": "1.2.0",
      "model_name": "LayoutModel",
      "state": {
       "_model_module": "@jupyter-widgets/base",
       "_model_module_version": "1.2.0",
       "_model_name": "LayoutModel",
       "_view_count": null,
       "_view_module": "@jupyter-widgets/base",
       "_view_module_version": "1.2.0",
       "_view_name": "LayoutView",
       "align_content": null,
       "align_items": null,
       "align_self": null,
       "border": null,
       "bottom": null,
       "display": null,
       "flex": null,
       "flex_flow": null,
       "grid_area": null,
       "grid_auto_columns": null,
       "grid_auto_flow": null,
       "grid_auto_rows": null,
       "grid_column": null,
       "grid_gap": null,
       "grid_row": null,
       "grid_template_areas": null,
       "grid_template_columns": null,
       "grid_template_rows": null,
       "height": null,
       "justify_content": null,
       "justify_items": null,
       "left": null,
       "margin": null,
       "max_height": null,
       "max_width": null,
       "min_height": null,
       "min_width": null,
       "object_fit": null,
       "object_position": null,
       "order": null,
       "overflow": null,
       "overflow_x": null,
       "overflow_y": null,
       "padding": null,
       "right": null,
       "top": null,
       "visibility": null,
       "width": null
      }
     },
     "9c92493262754b75869da93df07bb8cc": {
      "model_module": "@jupyter-widgets/controls",
      "model_module_version": "1.5.0",
      "model_name": "HTMLModel",
      "state": {
       "_dom_classes": [],
       "_model_module": "@jupyter-widgets/controls",
       "_model_module_version": "1.5.0",
       "_model_name": "HTMLModel",
       "_view_count": null,
       "_view_module": "@jupyter-widgets/controls",
       "_view_module_version": "1.5.0",
       "_view_name": "HTMLView",
       "description": "",
       "description_tooltip": null,
       "layout": "IPY_MODEL_be0c1b9b81f54a8ebd6faab34741462a",
       "placeholder": "​",
       "style": "IPY_MODEL_f99a5335b8854c5da5377bd9e5cce709",
       "value": " 701/701 [00:43&lt;00:00, 14.94it/s]"
      }
     },
     "9c9f4a0a39ec4af9a84de035349410aa": {
      "model_module": "@jupyter-widgets/controls",
      "model_module_version": "1.5.0",
      "model_name": "DescriptionStyleModel",
      "state": {
       "_model_module": "@jupyter-widgets/controls",
       "_model_module_version": "1.5.0",
       "_model_name": "DescriptionStyleModel",
       "_view_count": null,
       "_view_module": "@jupyter-widgets/base",
       "_view_module_version": "1.2.0",
       "_view_name": "StyleView",
       "description_width": ""
      }
     },
     "a89ec15680c74902a64f97ab0ed08b7f": {
      "model_module": "@jupyter-widgets/controls",
      "model_module_version": "1.5.0",
      "model_name": "FloatProgressModel",
      "state": {
       "_dom_classes": [],
       "_model_module": "@jupyter-widgets/controls",
       "_model_module_version": "1.5.0",
       "_model_name": "FloatProgressModel",
       "_view_count": null,
       "_view_module": "@jupyter-widgets/controls",
       "_view_module_version": "1.5.0",
       "_view_name": "ProgressView",
       "bar_style": "success",
       "description": "",
       "description_tooltip": null,
       "layout": "IPY_MODEL_30e0b3c0f61e4c9ea7876990480b35b6",
       "max": 701,
       "min": 0,
       "orientation": "horizontal",
       "style": "IPY_MODEL_4e75026bf47a40eba1f3d104c2859de5",
       "value": 701
      }
     },
     "ae458166313f487a93d56ad463d7951b": {
      "model_module": "@jupyter-widgets/controls",
      "model_module_version": "1.5.0",
      "model_name": "HBoxModel",
      "state": {
       "_dom_classes": [],
       "_model_module": "@jupyter-widgets/controls",
       "_model_module_version": "1.5.0",
       "_model_name": "HBoxModel",
       "_view_count": null,
       "_view_module": "@jupyter-widgets/controls",
       "_view_module_version": "1.5.0",
       "_view_name": "HBoxView",
       "box_style": "",
       "children": [
        "IPY_MODEL_b95ff9857a0b4c70a0c9b3a754113e3a",
        "IPY_MODEL_cb6044d9ad4443839277196023a5b934",
        "IPY_MODEL_d1ba265f67074cf3a7006eb351f35acd"
       ],
       "layout": "IPY_MODEL_c72ca9a4b85d4f8d995988bb0c070bd3"
      }
     },
     "b21a4e9487db4169ba7c69d2cbff8876": {
      "model_module": "@jupyter-widgets/base",
      "model_module_version": "1.2.0",
      "model_name": "LayoutModel",
      "state": {
       "_model_module": "@jupyter-widgets/base",
       "_model_module_version": "1.2.0",
       "_model_name": "LayoutModel",
       "_view_count": null,
       "_view_module": "@jupyter-widgets/base",
       "_view_module_version": "1.2.0",
       "_view_name": "LayoutView",
       "align_content": null,
       "align_items": null,
       "align_self": null,
       "border": null,
       "bottom": null,
       "display": null,
       "flex": null,
       "flex_flow": null,
       "grid_area": null,
       "grid_auto_columns": null,
       "grid_auto_flow": null,
       "grid_auto_rows": null,
       "grid_column": null,
       "grid_gap": null,
       "grid_row": null,
       "grid_template_areas": null,
       "grid_template_columns": null,
       "grid_template_rows": null,
       "height": null,
       "justify_content": null,
       "justify_items": null,
       "left": null,
       "margin": null,
       "max_height": null,
       "max_width": null,
       "min_height": null,
       "min_width": null,
       "object_fit": null,
       "object_position": null,
       "order": null,
       "overflow": null,
       "overflow_x": null,
       "overflow_y": null,
       "padding": null,
       "right": null,
       "top": null,
       "visibility": null,
       "width": null
      }
     },
     "b68f5d5928c7487d98df209bba0cc212": {
      "model_module": "@jupyter-widgets/controls",
      "model_module_version": "1.5.0",
      "model_name": "HBoxModel",
      "state": {
       "_dom_classes": [],
       "_model_module": "@jupyter-widgets/controls",
       "_model_module_version": "1.5.0",
       "_model_name": "HBoxModel",
       "_view_count": null,
       "_view_module": "@jupyter-widgets/controls",
       "_view_module_version": "1.5.0",
       "_view_name": "HBoxView",
       "box_style": "",
       "children": [
        "IPY_MODEL_dfadb9984f09443f95377ea0c4343d0b",
        "IPY_MODEL_4612a4027e4641bf96512dad4dc8ae99",
        "IPY_MODEL_0ccdabc9ecf64d8c99267f1f54305163"
       ],
       "layout": "IPY_MODEL_7dd2f8b9e14646c9a53750f1d313c7c6"
      }
     },
     "b95ff9857a0b4c70a0c9b3a754113e3a": {
      "model_module": "@jupyter-widgets/controls",
      "model_module_version": "1.5.0",
      "model_name": "HTMLModel",
      "state": {
       "_dom_classes": [],
       "_model_module": "@jupyter-widgets/controls",
       "_model_module_version": "1.5.0",
       "_model_name": "HTMLModel",
       "_view_count": null,
       "_view_module": "@jupyter-widgets/controls",
       "_view_module_version": "1.5.0",
       "_view_name": "HTMLView",
       "description": "",
       "description_tooltip": null,
       "layout": "IPY_MODEL_72edcd6ed1f94879b148c86d186b343c",
       "placeholder": "​",
       "style": "IPY_MODEL_dc19277421b042f59ca29175be217164",
       "value": "100%"
      }
     },
     "be0c1b9b81f54a8ebd6faab34741462a": {
      "model_module": "@jupyter-widgets/base",
      "model_module_version": "1.2.0",
      "model_name": "LayoutModel",
      "state": {
       "_model_module": "@jupyter-widgets/base",
       "_model_module_version": "1.2.0",
       "_model_name": "LayoutModel",
       "_view_count": null,
       "_view_module": "@jupyter-widgets/base",
       "_view_module_version": "1.2.0",
       "_view_name": "LayoutView",
       "align_content": null,
       "align_items": null,
       "align_self": null,
       "border": null,
       "bottom": null,
       "display": null,
       "flex": null,
       "flex_flow": null,
       "grid_area": null,
       "grid_auto_columns": null,
       "grid_auto_flow": null,
       "grid_auto_rows": null,
       "grid_column": null,
       "grid_gap": null,
       "grid_row": null,
       "grid_template_areas": null,
       "grid_template_columns": null,
       "grid_template_rows": null,
       "height": null,
       "justify_content": null,
       "justify_items": null,
       "left": null,
       "margin": null,
       "max_height": null,
       "max_width": null,
       "min_height": null,
       "min_width": null,
       "object_fit": null,
       "object_position": null,
       "order": null,
       "overflow": null,
       "overflow_x": null,
       "overflow_y": null,
       "padding": null,
       "right": null,
       "top": null,
       "visibility": null,
       "width": null
      }
     },
     "bec04c3b38504f2587a714659e108d43": {
      "model_module": "@jupyter-widgets/base",
      "model_module_version": "1.2.0",
      "model_name": "LayoutModel",
      "state": {
       "_model_module": "@jupyter-widgets/base",
       "_model_module_version": "1.2.0",
       "_model_name": "LayoutModel",
       "_view_count": null,
       "_view_module": "@jupyter-widgets/base",
       "_view_module_version": "1.2.0",
       "_view_name": "LayoutView",
       "align_content": null,
       "align_items": null,
       "align_self": null,
       "border": null,
       "bottom": null,
       "display": null,
       "flex": null,
       "flex_flow": null,
       "grid_area": null,
       "grid_auto_columns": null,
       "grid_auto_flow": null,
       "grid_auto_rows": null,
       "grid_column": null,
       "grid_gap": null,
       "grid_row": null,
       "grid_template_areas": null,
       "grid_template_columns": null,
       "grid_template_rows": null,
       "height": null,
       "justify_content": null,
       "justify_items": null,
       "left": null,
       "margin": null,
       "max_height": null,
       "max_width": null,
       "min_height": null,
       "min_width": null,
       "object_fit": null,
       "object_position": null,
       "order": null,
       "overflow": null,
       "overflow_x": null,
       "overflow_y": null,
       "padding": null,
       "right": null,
       "top": null,
       "visibility": null,
       "width": null
      }
     },
     "c72ca9a4b85d4f8d995988bb0c070bd3": {
      "model_module": "@jupyter-widgets/base",
      "model_module_version": "1.2.0",
      "model_name": "LayoutModel",
      "state": {
       "_model_module": "@jupyter-widgets/base",
       "_model_module_version": "1.2.0",
       "_model_name": "LayoutModel",
       "_view_count": null,
       "_view_module": "@jupyter-widgets/base",
       "_view_module_version": "1.2.0",
       "_view_name": "LayoutView",
       "align_content": null,
       "align_items": null,
       "align_self": null,
       "border": null,
       "bottom": null,
       "display": null,
       "flex": null,
       "flex_flow": null,
       "grid_area": null,
       "grid_auto_columns": null,
       "grid_auto_flow": null,
       "grid_auto_rows": null,
       "grid_column": null,
       "grid_gap": null,
       "grid_row": null,
       "grid_template_areas": null,
       "grid_template_columns": null,
       "grid_template_rows": null,
       "height": null,
       "justify_content": null,
       "justify_items": null,
       "left": null,
       "margin": null,
       "max_height": null,
       "max_width": null,
       "min_height": null,
       "min_width": null,
       "object_fit": null,
       "object_position": null,
       "order": null,
       "overflow": null,
       "overflow_x": null,
       "overflow_y": null,
       "padding": null,
       "right": null,
       "top": null,
       "visibility": null,
       "width": null
      }
     },
     "cb6044d9ad4443839277196023a5b934": {
      "model_module": "@jupyter-widgets/controls",
      "model_module_version": "1.5.0",
      "model_name": "FloatProgressModel",
      "state": {
       "_dom_classes": [],
       "_model_module": "@jupyter-widgets/controls",
       "_model_module_version": "1.5.0",
       "_model_name": "FloatProgressModel",
       "_view_count": null,
       "_view_module": "@jupyter-widgets/controls",
       "_view_module_version": "1.5.0",
       "_view_name": "ProgressView",
       "bar_style": "success",
       "description": "",
       "description_tooltip": null,
       "layout": "IPY_MODEL_12c64f1365264284bbde1128675505a8",
       "max": 176,
       "min": 0,
       "orientation": "horizontal",
       "style": "IPY_MODEL_d5c68453a6004a94b5df9b967b99b7c6",
       "value": 176
      }
     },
     "d1ba265f67074cf3a7006eb351f35acd": {
      "model_module": "@jupyter-widgets/controls",
      "model_module_version": "1.5.0",
      "model_name": "HTMLModel",
      "state": {
       "_dom_classes": [],
       "_model_module": "@jupyter-widgets/controls",
       "_model_module_version": "1.5.0",
       "_model_name": "HTMLModel",
       "_view_count": null,
       "_view_module": "@jupyter-widgets/controls",
       "_view_module_version": "1.5.0",
       "_view_name": "HTMLView",
       "description": "",
       "description_tooltip": null,
       "layout": "IPY_MODEL_80e5e322d03b486890a576a73a489a1f",
       "placeholder": "​",
       "style": "IPY_MODEL_eee891a464aa44f79c9e909ddf19083a",
       "value": " 176/176 [00:11&lt;00:00, 16.11it/s]"
      }
     },
     "d5c68453a6004a94b5df9b967b99b7c6": {
      "model_module": "@jupyter-widgets/controls",
      "model_module_version": "1.5.0",
      "model_name": "ProgressStyleModel",
      "state": {
       "_model_module": "@jupyter-widgets/controls",
       "_model_module_version": "1.5.0",
       "_model_name": "ProgressStyleModel",
       "_view_count": null,
       "_view_module": "@jupyter-widgets/base",
       "_view_module_version": "1.2.0",
       "_view_name": "StyleView",
       "bar_color": null,
       "description_width": ""
      }
     },
     "dc19277421b042f59ca29175be217164": {
      "model_module": "@jupyter-widgets/controls",
      "model_module_version": "1.5.0",
      "model_name": "DescriptionStyleModel",
      "state": {
       "_model_module": "@jupyter-widgets/controls",
       "_model_module_version": "1.5.0",
       "_model_name": "DescriptionStyleModel",
       "_view_count": null,
       "_view_module": "@jupyter-widgets/base",
       "_view_module_version": "1.2.0",
       "_view_name": "StyleView",
       "description_width": ""
      }
     },
     "dfadb9984f09443f95377ea0c4343d0b": {
      "model_module": "@jupyter-widgets/controls",
      "model_module_version": "1.5.0",
      "model_name": "HTMLModel",
      "state": {
       "_dom_classes": [],
       "_model_module": "@jupyter-widgets/controls",
       "_model_module_version": "1.5.0",
       "_model_name": "HTMLModel",
       "_view_count": null,
       "_view_module": "@jupyter-widgets/controls",
       "_view_module_version": "1.5.0",
       "_view_name": "HTMLView",
       "description": "",
       "description_tooltip": null,
       "layout": "IPY_MODEL_0c39b327214748c2bba0dfd7e0904182",
       "placeholder": "​",
       "style": "IPY_MODEL_2dabc4ab9c9b4a00a0b027d273a36b1c",
       "value": "100%"
      }
     },
     "e0adb630a5d14ff9ad95c5801a28c77e": {
      "model_module": "@jupyter-widgets/controls",
      "model_module_version": "1.5.0",
      "model_name": "HBoxModel",
      "state": {
       "_dom_classes": [],
       "_model_module": "@jupyter-widgets/controls",
       "_model_module_version": "1.5.0",
       "_model_name": "HBoxModel",
       "_view_count": null,
       "_view_module": "@jupyter-widgets/controls",
       "_view_module_version": "1.5.0",
       "_view_name": "HBoxView",
       "box_style": "",
       "children": [
        "IPY_MODEL_4472030c967649efb6c8573071e06ea1",
        "IPY_MODEL_a89ec15680c74902a64f97ab0ed08b7f",
        "IPY_MODEL_9c92493262754b75869da93df07bb8cc"
       ],
       "layout": "IPY_MODEL_05177d8b0b75406799b30c4c1ac7c6f0"
      }
     },
     "eee891a464aa44f79c9e909ddf19083a": {
      "model_module": "@jupyter-widgets/controls",
      "model_module_version": "1.5.0",
      "model_name": "DescriptionStyleModel",
      "state": {
       "_model_module": "@jupyter-widgets/controls",
       "_model_module_version": "1.5.0",
       "_model_name": "DescriptionStyleModel",
       "_view_count": null,
       "_view_module": "@jupyter-widgets/base",
       "_view_module_version": "1.2.0",
       "_view_name": "StyleView",
       "description_width": ""
      }
     },
     "f99a5335b8854c5da5377bd9e5cce709": {
      "model_module": "@jupyter-widgets/controls",
      "model_module_version": "1.5.0",
      "model_name": "DescriptionStyleModel",
      "state": {
       "_model_module": "@jupyter-widgets/controls",
       "_model_module_version": "1.5.0",
       "_model_name": "DescriptionStyleModel",
       "_view_count": null,
       "_view_module": "@jupyter-widgets/base",
       "_view_module_version": "1.2.0",
       "_view_name": "StyleView",
       "description_width": ""
      }
     }
    },
    "version_major": 2,
    "version_minor": 0
   }
  }
 },
 "nbformat": 4,
 "nbformat_minor": 5
}
